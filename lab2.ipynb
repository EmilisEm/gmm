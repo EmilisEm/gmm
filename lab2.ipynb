{
  "nbformat": 4,
  "nbformat_minor": 0,
  "metadata": {
    "colab": {
      "provenance": [],
      "authorship_tag": "ABX9TyO+azsK22fv8oG7LwTetERv",
      "include_colab_link": true
    },
    "kernelspec": {
      "name": "python3",
      "display_name": "Python 3"
    },
    "language_info": {
      "name": "python"
    }
  },
  "cells": [
    {
      "cell_type": "markdown",
      "metadata": {
        "id": "view-in-github",
        "colab_type": "text"
      },
      "source": [
        "<a href=\"https://colab.research.google.com/github/EmilisEm/gmm/blob/master/lab2.ipynb\" target=\"_parent\"><img src=\"https://colab.research.google.com/assets/colab-badge.svg\" alt=\"Open In Colab\"/></a>"
      ]
    },
    {
      "cell_type": "markdown",
      "source": [
        "#### Author LSP: 2213748\n",
        "\n",
        "#### Author: Emilis Kleinas\n",
        "\n",
        "#### Variant: Classification model with `Printer`, `Cat` and `Tiger` classes\n",
        "\n",
        "#### What does the program do\n",
        "\n",
        "1. Downloads images for the specified classes from `OpenImages`.\n",
        "2. Initiates a clasification model.\n",
        "3. Trains the defined model.\n",
        "4. Calculates confucion matrix, precision, accuracy, recall and F1 statistics for the downloaded images.\n"
      ],
      "metadata": {
        "id": "Yx1ghPjhBNnZ"
      }
    },
    {
      "cell_type": "markdown",
      "source": [
        "Needed imports"
      ],
      "metadata": {
        "id": "TP-HJKSaDbk4"
      }
    },
    {
      "cell_type": "code",
      "source": [
        "import torch\n",
        "import os\n",
        "from torch.utils.data import Dataset, DataLoader, random_split\n",
        "from torchvision.io import read_image\n",
        "from pathlib import Path\n",
        "from tqdm import tqdm\n",
        "import PIL.Image\n",
        "import torchvision.transforms as transforms\n",
        "import matplotlib.pyplot as plt\n",
        "from sklearn.metrics import confusion_matrix, accuracy_score, precision_score, recall_score, f1_score\n",
        "import seaborn as sns"
      ],
      "metadata": {
        "id": "9iATiZKcDdlW"
      },
      "execution_count": 59,
      "outputs": []
    },
    {
      "cell_type": "markdown",
      "source": [
        "## 1. Mount google drive to access and store images"
      ],
      "metadata": {
        "id": "yoko0wBjDQ10"
      }
    },
    {
      "cell_type": "code",
      "source": [
        "!pip install openimages"
      ],
      "metadata": {
        "colab": {
          "base_uri": "https://localhost:8080/"
        },
        "id": "7SjcE9lLJ_H3",
        "outputId": "50b1c200-2d46-402f-c409-11a79c714ca9"
      },
      "execution_count": 60,
      "outputs": [
        {
          "output_type": "stream",
          "name": "stdout",
          "text": [
            "Requirement already satisfied: openimages in /usr/local/lib/python3.11/dist-packages (0.0.1)\n",
            "Requirement already satisfied: boto3 in /usr/local/lib/python3.11/dist-packages (from openimages) (1.37.28)\n",
            "Requirement already satisfied: cvdata in /usr/local/lib/python3.11/dist-packages (from openimages) (0.0.3)\n",
            "Requirement already satisfied: lxml in /usr/local/lib/python3.11/dist-packages (from openimages) (5.3.1)\n",
            "Requirement already satisfied: pandas in /usr/local/lib/python3.11/dist-packages (from openimages) (2.2.2)\n",
            "Requirement already satisfied: requests in /usr/local/lib/python3.11/dist-packages (from openimages) (2.32.3)\n",
            "Requirement already satisfied: tqdm in /usr/local/lib/python3.11/dist-packages (from openimages) (4.67.1)\n",
            "Requirement already satisfied: botocore<1.38.0,>=1.37.28 in /usr/local/lib/python3.11/dist-packages (from boto3->openimages) (1.37.28)\n",
            "Requirement already satisfied: jmespath<2.0.0,>=0.7.1 in /usr/local/lib/python3.11/dist-packages (from boto3->openimages) (1.0.1)\n",
            "Requirement already satisfied: s3transfer<0.12.0,>=0.11.0 in /usr/local/lib/python3.11/dist-packages (from boto3->openimages) (0.11.4)\n",
            "Requirement already satisfied: numpy in /usr/local/lib/python3.11/dist-packages (from cvdata->openimages) (2.0.2)\n",
            "Requirement already satisfied: opencv-python in /usr/local/lib/python3.11/dist-packages (from cvdata->openimages) (4.11.0.86)\n",
            "Requirement already satisfied: pillow in /usr/local/lib/python3.11/dist-packages (from cvdata->openimages) (11.1.0)\n",
            "Requirement already satisfied: python-dateutil>=2.8.2 in /usr/local/lib/python3.11/dist-packages (from pandas->openimages) (2.8.2)\n",
            "Requirement already satisfied: pytz>=2020.1 in /usr/local/lib/python3.11/dist-packages (from pandas->openimages) (2025.2)\n",
            "Requirement already satisfied: tzdata>=2022.7 in /usr/local/lib/python3.11/dist-packages (from pandas->openimages) (2025.2)\n",
            "Requirement already satisfied: charset-normalizer<4,>=2 in /usr/local/lib/python3.11/dist-packages (from requests->openimages) (3.4.1)\n",
            "Requirement already satisfied: idna<4,>=2.5 in /usr/local/lib/python3.11/dist-packages (from requests->openimages) (3.10)\n",
            "Requirement already satisfied: urllib3<3,>=1.21.1 in /usr/local/lib/python3.11/dist-packages (from requests->openimages) (2.3.0)\n",
            "Requirement already satisfied: certifi>=2017.4.17 in /usr/local/lib/python3.11/dist-packages (from requests->openimages) (2025.1.31)\n",
            "Requirement already satisfied: six>=1.5 in /usr/local/lib/python3.11/dist-packages (from python-dateutil>=2.8.2->pandas->openimages) (1.17.0)\n"
          ]
        }
      ]
    },
    {
      "cell_type": "code",
      "execution_count": 69,
      "metadata": {
        "colab": {
          "base_uri": "https://localhost:8080/"
        },
        "id": "SlPWz96UBFHa",
        "outputId": "a6b21dc9-1a48-4075-d725-7769ddcfabdf"
      },
      "outputs": [
        {
          "output_type": "stream",
          "name": "stdout",
          "text": [
            "Drive already mounted at /content/drive; to attempt to forcibly remount, call drive.mount(\"/content/drive\", force_remount=True).\n"
          ]
        }
      ],
      "source": [
        "from google.colab import drive\n",
        "drive_base_uri = '/content/drive'\n",
        "drive.mount(drive_base_uri)"
      ]
    },
    {
      "cell_type": "code",
      "source": [
        "# The `data_dir` variable specifies the base directory to which the images will be saves.\n",
        "# The images are stored as follows `{data_dir}/{class_name}/images/*.jpg`\n",
        "# Where `class_name` is the name of the class being processed (e.g. \"cow\") in lowercase\n",
        "data_dir = drive_base_uri + \"/MyDrive/openimages\"\n",
        "number_of_images = 100\n",
        "classes = [\"Cat\", \"Tiger\", \"Printer\"]"
      ],
      "metadata": {
        "id": "B2970d24DX3_"
      },
      "execution_count": 70,
      "outputs": []
    },
    {
      "cell_type": "markdown",
      "source": [
        "Download images for data classes (Optional if images already exist)"
      ],
      "metadata": {
        "id": "BIpmlCmYD2kD"
      }
    },
    {
      "cell_type": "code",
      "source": [
        "from openimages.download import download_dataset\n",
        "download_dataset(data_dir, classes, limit=number_of_images)"
      ],
      "metadata": {
        "colab": {
          "base_uri": "https://localhost:8080/"
        },
        "id": "JgCkbaabD5mr",
        "outputId": "b385d072-7c75-441a-9dcb-208217dd40b1"
      },
      "execution_count": 71,
      "outputs": [
        {
          "output_type": "stream",
          "name": "stderr",
          "text": [
            "100%|██████████| 100/100 [00:02<00:00, 48.58it/s]\n",
            "100%|██████████| 100/100 [00:02<00:00, 45.77it/s]\n",
            "100%|██████████| 94/94 [00:01<00:00, 47.66it/s]\n"
          ]
        },
        {
          "output_type": "execute_result",
          "data": {
            "text/plain": [
              "{'cat': {'images_dir': '/content/drive/MyDrive/openimages/cat/images'},\n",
              " 'tiger': {'images_dir': '/content/drive/MyDrive/openimages/tiger/images'},\n",
              " 'printer': {'images_dir': '/content/drive/MyDrive/openimages/printer/images'}}"
            ]
          },
          "metadata": {},
          "execution_count": 71
        }
      ]
    },
    {
      "cell_type": "markdown",
      "source": [
        "## 2. Initiate a classificaton model"
      ],
      "metadata": {
        "id": "Rh7tXvCIEJ7P"
      }
    },
    {
      "cell_type": "markdown",
      "source": [
        "### Define custom dataset"
      ],
      "metadata": {
        "id": "UEUCO1JPEQ_T"
      }
    },
    {
      "cell_type": "code",
      "source": [
        "class CustomDataset(Dataset):\n",
        "    def __init__(self, base_dir, transform):\n",
        "        self.transform = transform\n",
        "        self.samples = []\n",
        "\n",
        "        for dataset_class in classes:\n",
        "            class_path = Path(data_dir) / dataset_class.lower() / \"images\"\n",
        "            if class_path.exists():\n",
        "                self.samples.extend([(str(p), dataset_class) for p in class_path.glob('*.jpg')])\n",
        "\n",
        "        print(f\"Found {len(self.samples)} images\")\n",
        "\n",
        "    def __len__(self):\n",
        "        return len(self.samples)\n",
        "\n",
        "    def __getitem__(self, idx):\n",
        "        img_path, dataset_class = self.samples[idx]\n",
        "        try:\n",
        "            with PIL.Image.open(img_path) as img:\n",
        "                img = img.convert('RGB')\n",
        "                if self.transform:\n",
        "                    img = self.transform(img)\n",
        "                return img, 0, dataset_class\n",
        "        except Exception as e:\n",
        "            print(f\"Error loading {img_path}: {e}\")\n",
        "            return torch.zeros((3, 224, 224)), 0, dataset_class"
      ],
      "metadata": {
        "id": "op8CxzwfEWmr"
      },
      "execution_count": 72,
      "outputs": []
    },
    {
      "cell_type": "markdown",
      "source": [
        "### Define transfroms"
      ],
      "metadata": {
        "id": "6-xneN8DFEt2"
      }
    },
    {
      "cell_type": "code",
      "source": [
        "transform = transforms.Compose([\n",
        "    transforms.Resize((128, 128)),\n",
        "    transforms.ToTensor(),\n",
        "    transforms.Normalize(mean=[0.485, 0.456, 0.406], std=[0.229, 0.224, 0.225])\n",
        "])"
      ],
      "metadata": {
        "id": "rSmdNHu8FHek"
      },
      "execution_count": 73,
      "outputs": []
    },
    {
      "cell_type": "markdown",
      "source": [
        "### Initiate datasets"
      ],
      "metadata": {
        "id": "VEchLYVMGFbb"
      }
    },
    {
      "cell_type": "code",
      "source": [
        "dataset = CustomDataset(data_dir, transform=transform)\n",
        "print(f\"Dataset size: {len(dataset)} images\")\n",
        "\n",
        "train_size = int(0.8 * len(dataset))\n",
        "validation_size = len(dataset) - train_size\n",
        "train_dataset, validation_dataset = random_split(dataset, [train_size, validation_size])\n",
        "\n",
        "print(f\"Training set size: {len(train_dataset)}\")\n",
        "print(f\"Vaidation set size: {len(validation_dataset)}\")\n"
      ],
      "metadata": {
        "colab": {
          "base_uri": "https://localhost:8080/"
        },
        "id": "6h-Osx_fGKGZ",
        "outputId": "f0333744-e41d-43de-baa0-f5e18e1c90e7"
      },
      "execution_count": 74,
      "outputs": [
        {
          "output_type": "stream",
          "name": "stdout",
          "text": [
            "Found 300 images\n",
            "Dataset size: 300 images\n",
            "Training set size: 240\n",
            "Vaidation set size: 60\n"
          ]
        }
      ]
    },
    {
      "cell_type": "markdown",
      "source": [
        "### Initiate dataloaders"
      ],
      "metadata": {
        "id": "92a5vHj9Gjtl"
      }
    },
    {
      "cell_type": "code",
      "source": [
        "train_data_loader = DataLoader(\n",
        "    train_dataset,\n",
        "    batch_size=32,\n",
        "    shuffle=False,\n",
        "    num_workers=1,\n",
        "    prefetch_factor=2,\n",
        "    persistent_workers=True,\n",
        "    multiprocessing_context='fork'\n",
        ")\n",
        "\n",
        "validation_data_loader = DataLoader(\n",
        "    validation_dataset,\n",
        "    batch_size=32,\n",
        "    shuffle=False,\n",
        "    num_workers=1,\n",
        "    prefetch_factor=2,\n",
        "    persistent_workers=True,\n",
        "    multiprocessing_context='fork'\n",
        ")\n",
        "\n",
        "print(f\"For trainging: {train_data_loader.num_workers} workers\")\n",
        "print(f\"For validation: {validation_data_loader.num_workers} workers\")\n",
        ""
      ],
      "metadata": {
        "colab": {
          "base_uri": "https://localhost:8080/"
        },
        "id": "oFuAY7a-GnSb",
        "outputId": "648df5c6-4eed-4c11-d8ec-e57a6e8ac50b"
      },
      "execution_count": 75,
      "outputs": [
        {
          "output_type": "stream",
          "name": "stdout",
          "text": [
            "For trainging: 1 workers\n",
            "For validation: 1 workers\n"
          ]
        }
      ]
    },
    {
      "cell_type": "markdown",
      "source": [
        "### Create a simple convolutional neural network"
      ],
      "metadata": {
        "id": "Tpevzg3VIXPP"
      }
    },
    {
      "cell_type": "code",
      "source": [
        "import torch.nn as nn\n",
        "\n",
        "class SimpleConvNet(torch.nn.Module):\n",
        "    def __init__(self, in_shape, num_classes):\n",
        "        super().__init__()\n",
        "        self.conv1 = torch.nn.Conv2d(in_shape[0], 16, 3, padding='same')\n",
        "        self.pool1 = torch.nn.MaxPool2d(2, 2)\n",
        "        self.conv2 = torch.nn.Conv2d(16, 32, 3, padding='same')\n",
        "        self.pool2 = torch.nn.MaxPool2d(2, 2)\n",
        "        self.conv3 = torch.nn.Conv2d(32, 64, 3, padding='same')\n",
        "        self.pool3 = torch.nn.MaxPool2d(2, 2)\n",
        "\n",
        "        feature_size = in_shape[1] // 8 * in_shape[2] // 8 * 64\n",
        "\n",
        "        self.fc1 = torch.nn.Linear(feature_size, 128)\n",
        "        self.fc2 = torch.nn.Linear(128, num_classes)\n",
        "\n",
        "        self.flatten = torch.nn.Flatten()\n",
        "        self.relu = torch.nn.ReLU()\n",
        "        self.dropout = torch.nn.Dropout(0.3)\n",
        "\n",
        "    def forward(self, x):\n",
        "        x = self.conv1(x)\n",
        "        x = self.relu(x)\n",
        "        x = self.pool1(x)\n",
        "\n",
        "        x = self.conv2(x)\n",
        "        x = self.relu(x)\n",
        "        x = self.pool2(x)\n",
        "\n",
        "        x = self.conv3(x)\n",
        "        x = self.relu(x)\n",
        "        x = self.pool3(x)\n",
        "\n",
        "        x = self.flatten(x)\n",
        "        x = self.fc1(x)\n",
        "        x = self.relu(x)\n",
        "        x = self.dropout(x)\n",
        "        x = self.fc2(x)\n",
        "\n",
        "        return x\n",
        "\n",
        "sample_inputs, _, _ = next(iter(train_data_loader))\n",
        "in_shape = sample_inputs[0].shape\n",
        "device = torch.device('cuda:0' if torch.cuda.is_available() else 'cpu')\n",
        "model = SimpleConvNet(in_shape, len(classes)).to(device)\n",
        "\n",
        "print(f\"Model: {model.__class__.__name__}\")\n",
        "print(f'Total parameters: {sum(p.numel() for p in model.parameters()):,}')\n",
        "print(f'Trainable parameters: {sum(p.numel() for p in model.parameters() if p.requires_grad):,}')"
      ],
      "metadata": {
        "colab": {
          "base_uri": "https://localhost:8080/"
        },
        "id": "0W80yns0If_w",
        "outputId": "69f302c8-3095-4f40-8f7f-25c4c5dcf7dc"
      },
      "execution_count": 76,
      "outputs": [
        {
          "output_type": "stream",
          "name": "stdout",
          "text": [
            "Model: SimpleConvNet\n",
            "Total parameters: 2,121,251\n",
            "Trainable parameters: 2,121,251\n"
          ]
        }
      ]
    },
    {
      "cell_type": "markdown",
      "source": [
        "## 3. Training of the model"
      ],
      "metadata": {
        "id": "cHRhj6W0IsU2"
      }
    },
    {
      "cell_type": "markdown",
      "source": [
        "### Training function"
      ],
      "metadata": {
        "id": "LSJRRsFVI20G"
      }
    },
    {
      "cell_type": "code",
      "source": [
        "\n",
        "def train_model(model, train_loader, num_epochs=10):\n",
        "    criterion = nn.CrossEntropyLoss()\n",
        "    optimizer = torch.optim.Adam(model.parameters(), lr=0.001)\n",
        "\n",
        "    history = {\n",
        "        'train_loss': [],\n",
        "        'train_acc': []\n",
        "    }\n",
        "\n",
        "    model.train()\n",
        "\n",
        "    for epoch in range(num_epochs):\n",
        "        running_loss = 0.0\n",
        "        correct = 0\n",
        "        total = 0\n",
        "\n",
        "        for batch in train_loader:\n",
        "            inputs, labels_unused, class_names = batch\n",
        "\n",
        "            class_map = {'Printer': 0, 'Cat': 1, 'Tiger': 2}\n",
        "            labels = torch.tensor([class_map[cls] for cls in class_names]).to(device)\n",
        "\n",
        "            inputs = inputs.to(device)\n",
        "\n",
        "            optimizer.zero_grad()\n",
        "\n",
        "            outputs = model(inputs)\n",
        "            loss = criterion(outputs, labels)\n",
        "\n",
        "            loss.backward()\n",
        "            optimizer.step()\n",
        "\n",
        "            running_loss += loss.item() * inputs.size(0)\n",
        "            _, predicted = torch.max(outputs, 1)\n",
        "            total += labels.size(0)\n",
        "            correct += (predicted == labels).sum().item()\n",
        "\n",
        "        epoch_loss = running_loss / len(train_loader.dataset)\n",
        "        epoch_acc = 100 * correct / total\n",
        "\n",
        "        history['train_loss'].append(epoch_loss)\n",
        "        history['train_acc'].append(epoch_acc)\n",
        "\n",
        "        print(f'Epoch {epoch+1}/{num_epochs}, Loss: {epoch_loss:.4f}, Accuracy: {epoch_acc:.2f}%')\n",
        "\n",
        "    return model, history\n"
      ],
      "metadata": {
        "id": "9WUsLZdfIvKL"
      },
      "execution_count": 78,
      "outputs": []
    },
    {
      "cell_type": "markdown",
      "source": [
        "### Training the model"
      ],
      "metadata": {
        "id": "3zpzIXd8JSmN"
      }
    },
    {
      "cell_type": "code",
      "source": [
        "print(\"Training new model...\")\n",
        "model, history = train_model(model, train_data_loader, num_epochs=10)\n",
        "print(\"Model trained\")"
      ],
      "metadata": {
        "colab": {
          "base_uri": "https://localhost:8080/"
        },
        "id": "1oMtn7TwJV0o",
        "outputId": "f6e9307b-4d43-4f33-d53f-afd4733c79d2"
      },
      "execution_count": 79,
      "outputs": [
        {
          "output_type": "stream",
          "name": "stdout",
          "text": [
            "Training new model...\n",
            "Epoch 1/10, Loss: 1.1058, Accuracy: 44.17%\n",
            "Epoch 2/10, Loss: 1.0743, Accuracy: 49.58%\n",
            "Epoch 3/10, Loss: 0.9821, Accuracy: 50.83%\n",
            "Epoch 4/10, Loss: 0.9300, Accuracy: 55.00%\n",
            "Epoch 5/10, Loss: 0.9075, Accuracy: 58.75%\n",
            "Epoch 6/10, Loss: 0.7134, Accuracy: 70.83%\n",
            "Epoch 7/10, Loss: 0.5997, Accuracy: 74.17%\n",
            "Epoch 8/10, Loss: 0.4637, Accuracy: 83.75%\n",
            "Epoch 9/10, Loss: 0.4736, Accuracy: 81.67%\n",
            "Epoch 10/10, Loss: 0.3712, Accuracy: 83.33%\n",
            "Model trained\n"
          ]
        }
      ]
    },
    {
      "cell_type": "markdown",
      "source": [
        "## 4. Calculate statistics for model"
      ],
      "metadata": {
        "id": "q5IECxbiMiug"
      }
    },
    {
      "cell_type": "code",
      "source": [
        "\n",
        "def evaluate_model(model, test_loader):\n",
        "    model.eval()\n",
        "    all_preds = []\n",
        "    all_labels = []\n",
        "\n",
        "    with torch.no_grad():\n",
        "        for batch in test_loader:\n",
        "            inputs, _, class_names = batch\n",
        "\n",
        "            class_map = {'Printer': 0, 'Cat': 1, 'Tiger': 2}\n",
        "            labels = torch.tensor([class_map[cls] for cls in class_names]).to(device)\n",
        "\n",
        "            inputs = inputs.to(device)\n",
        "\n",
        "            outputs = model(inputs)\n",
        "            _, predicted = torch.max(outputs, 1)\n",
        "\n",
        "            all_preds.extend(predicted.cpu().numpy())\n",
        "            all_labels.extend(labels.cpu().numpy())\n",
        "\n",
        "    accuracy = accuracy_score(all_labels, all_preds)\n",
        "    precision_weighted = precision_score(all_labels, all_preds, average='weighted')\n",
        "    recall_weighted = recall_score(all_labels, all_preds, average='weighted')\n",
        "    f1_weighted = f1_score(all_labels, all_preds, average='weighted')\n",
        "\n",
        "    precision_per_class = precision_score(all_labels, all_preds, average=None)\n",
        "    recall_per_class = recall_score(all_labels, all_preds, average=None)\n",
        "    f1_per_class = f1_score(all_labels, all_preds, average=None)\n",
        "\n",
        "    conf_matrix = confusion_matrix(all_labels, all_preds)\n",
        "\n",
        "    print(\"Overall Metrics:\")\n",
        "    print(f\"Accuracy: {accuracy:.4f}\")\n",
        "    print(f\"Precision (weighted): {precision_weighted:.4f}\")\n",
        "    print(f\"Recall (weighted): {recall_weighted:.4f}\")\n",
        "    print(f\"F1 Score (weighted): {f1_weighted:.4f}\")\n",
        "    print(\"\\n\" + \"-\"*50 + \"\\n\")\n",
        "\n",
        "    print(\"Per-Class Metrics:\")\n",
        "    for i, class_name in enumerate(classes):\n",
        "        print(f\"\\nClass: {class_name}\")\n",
        "        print(f\"Precision: {precision_per_class[i]:.4f}\")\n",
        "        print(f\"Recall: {recall_per_class[i]:.4f}\")\n",
        "        print(f\"F1 Score: {f1_per_class[i]:.4f}\")\n",
        "\n",
        "        class_samples = sum(1 for label in all_labels if label == i)\n",
        "        class_correct = sum(1 for pred, label in zip(all_preds, all_labels)\n",
        "                            if pred == label and label == i)\n",
        "        class_accuracy = class_correct / class_samples if class_samples > 0 else 0\n",
        "        print(f\"Accuracy: {class_accuracy:.4f} ({class_correct}/{class_samples})\")\n",
        "\n",
        "    plt.figure(figsize=(8, 6))\n",
        "    sns.heatmap(conf_matrix, annot=True, fmt='d', cmap='Blues',\n",
        "                xticklabels=classes, yticklabels=classes)\n",
        "    plt.xlabel('Predicted')\n",
        "    plt.ylabel('True')\n",
        "    plt.title('Confusion Matrix')\n",
        "    plt.tight_layout()\n",
        "    plt.show()\n",
        "\n",
        "    return {\n",
        "        'accuracy': accuracy,\n",
        "        'precision_weighted': precision_weighted,\n",
        "        'recall_weighted': recall_weighted,\n",
        "        'f1_weighted': f1_weighted,\n",
        "        'precision_per_class': precision_per_class,\n",
        "        'recall_per_class': recall_per_class,\n",
        "        'f1_per_class': f1_per_class,\n",
        "        'confusion_matrix': conf_matrix\n",
        "    }\n",
        "\n",
        "metrics = evaluate_model(model, validation_data_loader)\n"
      ],
      "metadata": {
        "colab": {
          "base_uri": "https://localhost:8080/",
          "height": 1000
        },
        "id": "u19D5U3wMhPj",
        "outputId": "fb779ce1-c63e-4f2e-8e52-648d75d9ced9"
      },
      "execution_count": 80,
      "outputs": [
        {
          "output_type": "stream",
          "name": "stdout",
          "text": [
            "Overall Metrics:\n",
            "Accuracy: 0.6500\n",
            "Precision (weighted): 0.6754\n",
            "Recall (weighted): 0.6500\n",
            "F1 Score (weighted): 0.6491\n",
            "\n",
            "--------------------------------------------------\n",
            "\n",
            "Per-Class Metrics:\n",
            "\n",
            "Class: Cat\n",
            "Precision: 0.6471\n",
            "Recall: 0.5789\n",
            "F1 Score: 0.6111\n",
            "Accuracy: 0.5789 (11/19)\n",
            "\n",
            "Class: Tiger\n",
            "Precision: 0.5714\n",
            "Recall: 0.8000\n",
            "F1 Score: 0.6667\n",
            "Accuracy: 0.8000 (16/20)\n",
            "\n",
            "Class: Printer\n",
            "Precision: 0.8000\n",
            "Recall: 0.5714\n",
            "F1 Score: 0.6667\n",
            "Accuracy: 0.5714 (12/21)\n"
          ]
        },
        {
          "output_type": "display_data",
          "data": {
            "text/plain": [
              "<Figure size 800x600 with 2 Axes>"
            ],
            "image/png": "[encoded data removed]"
          },
          "metadata": {}
        }
      ]
    }
  ]
}